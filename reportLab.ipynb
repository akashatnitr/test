{
 "cells": [
  {
   "cell_type": "code",
   "execution_count": 6,
   "metadata": {
    "collapsed": false
   },
   "outputs": [],
   "source": [
    "from reportlab.pdfgen import canvas\n"
   ]
  },
  {
   "cell_type": "code",
   "execution_count": null,
   "metadata": {
    "collapsed": true
   },
   "outputs": [],
   "source": []
  },
  {
   "cell_type": "code",
   "execution_count": 7,
   "metadata": {
    "collapsed": false
   },
   "outputs": [],
   "source": [
    "# c = canvas.Canvas(\"hello.pdf\")\n",
    "# c.drawString(100,750,\"Welcome to Reportlab!\")\n",
    "# c.save()"
   ]
  },
  {
   "cell_type": "code",
   "execution_count": 15,
   "metadata": {
    "collapsed": false
   },
   "outputs": [],
   "source": [
    "short_dash = '_'*15\n",
    "long_dash = '_'*40\n"
   ]
  },
  {
   "cell_type": "code",
   "execution_count": null,
   "metadata": {
    "collapsed": true
   },
   "outputs": [],
   "source": []
  },
  {
   "cell_type": "code",
   "execution_count": null,
   "metadata": {
    "collapsed": true
   },
   "outputs": [],
   "source": []
  },
  {
   "cell_type": "code",
   "execution_count": null,
   "metadata": {
    "collapsed": true
   },
   "outputs": [],
   "source": []
  },
  {
   "cell_type": "code",
   "execution_count": null,
   "metadata": {
    "collapsed": true
   },
   "outputs": [],
   "source": []
  },
  {
   "cell_type": "code",
   "execution_count": 9,
   "metadata": {
    "collapsed": false
   },
   "outputs": [],
   "source": [
    "import time\n",
    "from reportlab.lib.enums import TA_JUSTIFY\n",
    "from reportlab.lib.pagesizes import letter\n",
    "from reportlab.platypus import SimpleDocTemplate, Paragraph, Spacer, Image\n",
    "from reportlab.lib.styles import getSampleStyleSheet, ParagraphStyle\n",
    "from reportlab.lib.units import inch\n",
    " \n",
    "doc = SimpleDocTemplate(\"form_letter.pdf\",pagesize=letter,\n",
    "                        rightMargin=72,leftMargin=72,\n",
    "                        topMargin=72,bottomMargin=18)\n",
    "Story=[]\n",
    "logo = \"wonture.png\"\n",
    "magName = \"Pythonista\"\n",
    "issueNum = 12\n",
    "subPrice = \"99.00\"\n",
    "limitedDate = \"03/05/2010\"\n",
    "freeGift = \"tin foil hat\"\n",
    " \n",
    "formatted_time = time.ctime()\n",
    "full_name = \"Mike Driscoll\"\n",
    "address_parts = [\"411 State St.\", \"Marshalltown, IA 50158\"]\n",
    " \n",
    "im = Image(logo, 2*inch, 2*inch)\n",
    "Story.append(im)\n",
    " \n",
    "styles=getSampleStyleSheet()\n",
    "styles.add(ParagraphStyle(name='Justify', alignment=TA_JUSTIFY))\n",
    "ptext = '<font size=12>%s</font>' % formatted_time\n",
    " \n",
    "Story.append(Paragraph(ptext, styles[\"Normal\"]))\n",
    "Story.append(Spacer(1, 12))\n",
    " \n",
    "# Create return address\n",
    "ptext = '<font size=12>%s</font>' % full_name\n",
    "Story.append(Paragraph(ptext, styles[\"Normal\"]))       \n",
    "for part in address_parts:\n",
    "    ptext = '<font size=12>%s</font>' % part.strip()\n",
    "    Story.append(Paragraph(ptext, styles[\"Normal\"]))   \n",
    " \n",
    "Story.append(Spacer(1, 12))\n",
    "ptext = '<font size=12>Dear %s:</font>' % full_name.split()[0].strip()\n",
    "Story.append(Paragraph(ptext, styles[\"Normal\"]))\n",
    "Story.append(Spacer(1, 12))\n",
    " \n",
    "ptext = '<font size=12>We would like to welcome you to our subscriber base for %s Magazine! \\\n",
    "        You will receive %s issues at the excellent introductory price of $%s. Please respond by\\\n",
    "        %s to start receiving your subscription and get the following free gift: %s.</font>' % (magName, \n",
    "                                                                                                issueNum,\n",
    "                                                                                                subPrice,\n",
    "                                                                                                limitedDate,\n",
    "                                                                                                freeGift)\n",
    "Story.append(Paragraph(ptext, styles[\"Justify\"]))\n",
    "Story.append(Spacer(1, 12))\n",
    " \n",
    " \n",
    "ptext = '<font size=12>Thank you very much and we look forward to serving you.</font>'\n",
    "Story.append(Paragraph(ptext, styles[\"Justify\"]))\n",
    "Story.append(Spacer(1, 12))\n",
    "ptext = '<font size=12>Sincerely,</font>'\n",
    "Story.append(Paragraph(ptext, styles[\"Normal\"]))\n",
    "Story.append(Spacer(1, 48))\n",
    "ptext = '<font size=12>Ima Sucker</font>'\n",
    "Story.append(Paragraph(ptext, styles[\"Normal\"]))\n",
    "Story.append(Spacer(1, 12))\n",
    "doc.build(Story)"
   ]
  },
  {
   "cell_type": "code",
   "execution_count": 11,
   "metadata": {
    "collapsed": false
   },
   "outputs": [],
   "source": [
    "from pyPdf import PdfFileWriter, PdfFileReader\n",
    "import StringIO\n",
    "from reportlab.pdfgen import canvas\n",
    "from reportlab.lib.pagesizes import letter\n",
    "\n",
    "packet = StringIO.StringIO()\n",
    "# create a new PDF with Reportlab\n",
    "can = canvas.Canvas(packet, pagesize=letter)\n",
    "can.drawString(10, 100, \"Hello world\")\n",
    "can.save()\n",
    "\n",
    "#move to the beginning of the StringIO buffer\n",
    "packet.seek(0)\n",
    "new_pdf = PdfFileReader(packet)\n",
    "# read your existing PDF\n",
    "existing_pdf = PdfFileReader(file(\"./dataset/a.pdf\", \"rb\"))\n",
    "output = PdfFileWriter()\n",
    "# add the \"watermark\" (which is the new pdf) on the existing page\n",
    "page = existing_pdf.getPage(0)\n",
    "page.mergePage(new_pdf.getPage(0))\n",
    "output.addPage(page)\n",
    "# finally, write \"output\" to a real file\n",
    "outputStream = file(\"destination.pdf\", \"wb\")\n",
    "output.write(outputStream)\n",
    "outputStream.close()"
   ]
  },
  {
   "cell_type": "code",
   "execution_count": null,
   "metadata": {
    "collapsed": true
   },
   "outputs": [],
   "source": []
  },
  {
   "cell_type": "code",
   "execution_count": 21,
   "metadata": {
    "collapsed": true
   },
   "outputs": [],
   "source": [
    "def pdf_to_csv(filename):\n",
    "    from cStringIO import StringIO  \n",
    "    from pdfminer.converter import LTChar, TextConverter\n",
    "    from pdfminer.layout import LAParams\n",
    "    from pdfminer.pdfparser import pdfDocument, pdfParser\n",
    "    from pdfminer.pdfinterp import pdfResourceManager, pdfPageInterpreter\n",
    "\n",
    "    class CsvConverter(TextConverter):\n",
    "        def __init__(self, *args, **kwargs):\n",
    "            TextConverter.__init__(self, *args, **kwargs)\n",
    "\n",
    "        def end_page(self, i):\n",
    "            from collections import defaultdict\n",
    "            lines = defaultdict(lambda : {})\n",
    "            for child in self.cur_item._objs:                #<-- changed\n",
    "                if isinstance(child, LTChar):\n",
    "                    (_,_,x,y) = child.bbox                   \n",
    "                    line = lines[int(-y)]\n",
    "                    line[x] = child._text.encode(self.codec) #<-- changed\n",
    "\n",
    "            for y in sorted(lines.keys()):\n",
    "                line = lines[y]\n",
    "                self.outfp.write(\";\".join(line[x] for x in sorted(line.keys())))\n",
    "                self.outfp.write(\"\\n\")\n",
    "\n",
    "    # ... the following part of the code is a remix of the \n",
    "    # convert() function in the pdfminer/tools/pdf2text module\n",
    "    rsrc = PDFResourceManager()\n",
    "    outfp = StringIO()\n",
    "    device = CsvConverter(rsrc, outfp, codec=\"utf-8\", laparams=LAParams())\n",
    "        # becuase my test documents are utf-8 (note: utf-8 is the default codec)\n",
    "\n",
    "    doc = PDFDocument()\n",
    "    fp = open(filename, 'rb')\n",
    "    parser = PDFParser(fp)       \n",
    "    parser.set_document(doc)     \n",
    "    doc.set_parser(parser)       \n",
    "    doc.initialize('')\n",
    "\n",
    "    interpreter = PDFPageInterpreter(rsrc, device)\n",
    "\n",
    "    for i, page in enumerate(doc.get_pages()):\n",
    "        outfp.write(\"START PAGE %d\\n\" % i)\n",
    "        if page is not None:\n",
    "            interpreter.process_page(page)\n",
    "        outfp.write(\"END PAGE %d\\n\" % i)\n",
    "\n",
    "    device.close()\n",
    "    fp.close()\n",
    "\n",
    "    return outfp.getvalue()"
   ]
  },
  {
   "cell_type": "code",
   "execution_count": 26,
   "metadata": {
    "collapsed": false
   },
   "outputs": [],
   "source": [
    "#pdf_to_csv('./dataset/a.pdf')"
   ]
  },
  {
   "cell_type": "code",
   "execution_count": 27,
   "metadata": {
    "collapsed": false
   },
   "outputs": [],
   "source": [
    "#from pdfminer.pdfparser import pdfdocument, pdfparser"
   ]
  },
  {
   "cell_type": "code",
   "execution_count": null,
   "metadata": {
    "collapsed": true
   },
   "outputs": [],
   "source": []
  }
 ],
 "metadata": {
  "kernelspec": {
   "display_name": "Python 2",
   "language": "python",
   "name": "python2"
  },
  "language_info": {
   "codemirror_mode": {
    "name": "ipython",
    "version": 2
   },
   "file_extension": ".py",
   "mimetype": "text/x-python",
   "name": "python",
   "nbconvert_exporter": "python",
   "pygments_lexer": "ipython2",
   "version": "2.7.10"
  }
 },
 "nbformat": 4,
 "nbformat_minor": 2
}
